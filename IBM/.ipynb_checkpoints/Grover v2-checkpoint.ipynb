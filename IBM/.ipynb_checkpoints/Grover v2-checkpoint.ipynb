{
 "cells": [
  {
   "cell_type": "code",
   "execution_count": null,
   "id": "3aaa6bb2",
   "metadata": {},
   "outputs": [],
   "source": [
    "# Optimisation problem - people in party A like B and C like D but A do not like B "
   ]
  },
  {
   "cell_type": "code",
   "execution_count": 13,
   "id": "9aadc382",
   "metadata": {},
   "outputs": [],
   "source": [
    "from qiskit import BasicAer\n",
    "from qiskit.algorithms import Grover, AmplificationProblem\n",
    "from qiskit.circuit.library import PhaseOracle\n",
    "from qiskit.tools.visualization import plot_histogram"
   ]
  },
  {
   "cell_type": "code",
   "execution_count": 17,
   "id": "8e68f5c0",
   "metadata": {},
   "outputs": [],
   "source": [
    "log_expr = '((Olivia & Abe) | (Jin & Amira)) & ~(Abe & Amira)'\n",
    "oracle = PhaseOracle(log_expr)\n",
    "alghoritm = Grover(oracle)"
   ]
  },
  {
   "cell_type": "code",
   "execution_count": 18,
   "id": "ffb699d9",
   "metadata": {},
   "outputs": [],
   "source": [
    "backend = BasicAer.get_backend('qasm_simulator')"
   ]
  },
  {
   "cell_type": "code",
   "execution_count": 19,
   "id": "d1be17e6",
   "metadata": {},
   "outputs": [],
   "source": [
    "grover = Grover(quantum_instance=backend)\n",
    "problem = AmplificationProblem(oracle=oracle, is_good_state=oracle.evaluate_bitstring)\n",
    "result = grover.amplify(problem)"
   ]
  },
  {
   "cell_type": "code",
   "execution_count": 23,
   "id": "51c1549a",
   "metadata": {},
   "outputs": [
    {
     "name": "stdout",
     "output_type": "stream",
     "text": [
      "Top measurement: 0011\n"
     ]
    }
   ],
   "source": [
    "#plot_histogram(result['measurement'], title=\"Possible combinations\", bar_labels=True)\n",
    "print('Top measurement:', result.top_measurement)"
   ]
  },
  {
   "cell_type": "code",
   "execution_count": null,
   "id": "2487d65b",
   "metadata": {},
   "outputs": [],
   "source": []
  }
 ],
 "metadata": {
  "kernelspec": {
   "display_name": "Python 3 (ipykernel)",
   "language": "python",
   "name": "python3"
  },
  "language_info": {
   "codemirror_mode": {
    "name": "ipython",
    "version": 3
   },
   "file_extension": ".py",
   "mimetype": "text/x-python",
   "name": "python",
   "nbconvert_exporter": "python",
   "pygments_lexer": "ipython3",
   "version": "3.10.4"
  }
 },
 "nbformat": 4,
 "nbformat_minor": 5
}
