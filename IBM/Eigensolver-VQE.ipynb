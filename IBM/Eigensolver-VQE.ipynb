{
 "cells": [
  {
   "cell_type": "code",
   "execution_count": 12,
   "id": "22304c74",
   "metadata": {},
   "outputs": [],
   "source": [
    "import numpy as np\n",
    "import pylab\n",
    "import copy\n",
    "from qiskit import BasicAer\n",
    "from qiskit.utils import QuantumInstance\n",
    "from qiskit.algorithms import NumPyMinimumEigensolver, VQE\n",
    "from qiskit.algorithms.optimizers import SLSQP\n",
    "from qiskit_nature.circuit.library import HartreeFock\n",
    "from qiskit_nature.circuit.library import UCCSD\n",
    "from qiskit_nature.drivers.second_quantization import PySCFDriver\n",
    "#from qiskit_nature.core import Hamiltonian, QubitMappingType\n",
    "from qiskit_nature.mappers.second_quantization import ParityMapper\n",
    "from qiskit_nature.converters.second_quantization import QubitConverter"
   ]
  },
  {
   "cell_type": "code",
   "execution_count": 13,
   "id": "de656530",
   "metadata": {},
   "outputs": [],
   "source": [
    "molecule='H.0.0 -{0}; Li.0.0 {0}'\n",
    "distances=np.arange(0.5,4.25,0.25)\n",
    "vqe_energies=[]\n",
    "hf_energies=[]\n",
    "exact_energies=[]"
   ]
  },
  {
   "cell_type": "code",
   "execution_count": null,
   "id": "63895ff7",
   "metadata": {},
   "outputs": [],
   "source": [
    "for i ,d in enumerate(distances):\n",
    "    print('step',i)\n",
    "    \n",
    "    #set up experiment\n",
    "    driver=PySCFDriver(molecule.format(d/2),basis='sto3g')\n",
    "    qmolecule=driver.run()\n",
    "    operator=Hamiltonian(qubit_mapping=QubitMappingType.PARITY,\n",
    "                         two_qubit_reduction=True,freeze_core=True,\n",
    "                         orbital_reduction=[-3,-2])\n",
    "    qubit_op,aux_ops=operator.run(qmolecule)\n",
    "    \n",
    "    #exact classical result\n",
    "    exact_result=NumPyMinimumEigensolver(qubit_op,aux_operators=aux_ops)\n",
    "    exact_result=operator.process_algorithm_result(exact_result)\n",
    "    \n",
    "    #VQE\n",
    "    optimizer=SLSQP(maxiter=1000)\n",
    "    initial_state=HatreeFock(operator.molecule_info['num_orbitals'],\n",
    "                             operator.molecule_info['num_particles'],\n",
    "                            qubit_mapping=operator._qubit_mapping,\n",
    "                             two_qubit_reduction=operator.two_qubit_reduction)\n",
    "    \n",
    "    var_form=UCCSD(num_orbitals=operator.moelcule_info['num_orbitals'],\n",
    "                  num_particles=operator.moelcule_info['num_particles'],\n",
    "                  initial_state=initial_state,\n",
    "                  qubit_mapping=operator._qubit_mapping,\n",
    "                  two_qubit_reduction=operator._two_qubit_reduction)\n",
    "    \n",
    "    algo=VQE(qubit_op,var_form,optimizer,aux_operator=aux_ops)\n",
    "    \n",
    "    vqe_result=algo.run(QuantumInstance(BasicAer.get_backend('statevector_simulator')))\n",
    "    vqe_result=operator.process_algorithm_result(vqe_result)\n",
    "    \n",
    "    \n",
    "    exact_energies.append(exact_result.energy)\n",
    "    vqe_energies.append(vqe_result.energy)\n",
    "    hf_energies.append(vqe_result.hatree_fock_energy)"
   ]
  },
  {
   "cell_type": "code",
   "execution_count": null,
   "id": "41ec6da2",
   "metadata": {},
   "outputs": [],
   "source": [
    "pylab.plot(distances,hf_energies,label='Hatree-Fock')\n",
    "pylab.plot(distances,vqe_energies,'o',label='VQE')\n",
    "pylab.plot(distances,exact_energies,'x',label='Exact')\n",
    "pylab.xlabel('Interatomic distance')\n",
    "pylab.ylabel('Energy')\n",
    "pylab.title('LiH Gronud State Energy')\n",
    "pylab.legend('upper right')"
   ]
  }
 ],
 "metadata": {
  "kernelspec": {
   "display_name": "Python 3 (ipykernel)",
   "language": "python",
   "name": "python3"
  },
  "language_info": {
   "codemirror_mode": {
    "name": "ipython",
    "version": 3
   },
   "file_extension": ".py",
   "mimetype": "text/x-python",
   "name": "python",
   "nbconvert_exporter": "python",
   "pygments_lexer": "ipython3",
   "version": "3.10.4"
  }
 },
 "nbformat": 4,
 "nbformat_minor": 5
}
