{
 "cells": [
  {
   "cell_type": "code",
   "execution_count": 1,
   "id": "d6d75366",
   "metadata": {},
   "outputs": [
    {
     "data": {
      "text/plain": [
       "'http://127.0.0.1:18000/?problemId=8f3c7a5f-9935-4a07-85f8-416f44b7ac01'"
      ]
     },
     "execution_count": 1,
     "metadata": {},
     "output_type": "execute_result"
    }
   ],
   "source": [
    "import dimod\n",
    "import dwave.inspector\n",
    "import dwave.system\n",
    "\n",
    "bqm = dimod.generators.ran_r(1, 20)\n",
    "sampler = dwave.system.EmbeddingComposite(dwave.system.DWaveSampler())\n",
    "sampleset = sampler.sample(bqm, num_reads=100)\n",
    "dwave.inspector.show(sampleset)"
   ]
  },
  {
   "cell_type": "code",
   "execution_count": null,
   "id": "26199607",
   "metadata": {},
   "outputs": [],
   "source": []
  }
 ],
 "metadata": {
  "kernelspec": {
   "display_name": "Python 3 (ipykernel)",
   "language": "python",
   "name": "python3"
  },
  "language_info": {
   "codemirror_mode": {
    "name": "ipython",
    "version": 3
   },
   "file_extension": ".py",
   "mimetype": "text/x-python",
   "name": "python",
   "nbconvert_exporter": "python",
   "pygments_lexer": "ipython3",
   "version": "3.10.0"
  }
 },
 "nbformat": 4,
 "nbformat_minor": 5
}
