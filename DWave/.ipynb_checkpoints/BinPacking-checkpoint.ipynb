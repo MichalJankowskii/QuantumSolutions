{
 "cells": [
  {
   "cell_type": "markdown",
   "id": "19755223",
   "metadata": {},
   "source": [
    "* num_items is the number of items.\n",
    "* weights assigns weights, , to each item, i, randomly within a configurable range, item_weight_range.\n",
    "* bin_capacity is the bin capacity, , set based on the average weight."
   ]
  },
  {
   "cell_type": "code",
   "execution_count": 1,
   "id": "a506220c",
   "metadata": {},
   "outputs": [
    {
     "name": "stdout",
     "output_type": "stream",
     "text": [
      "Problem: pack a total weight of 66 into bins of capacity 44.\n"
     ]
    }
   ],
   "source": [
    "import numpy as np\n",
    "num_items = 15\n",
    "item_weight_range = [3, 7]\n",
    "weights = list(np.random.randint(*item_weight_range, num_items))\n",
    "bin_capacity = int(10 * np.mean(weights))\n",
    "print(\"Problem: pack a total weight of {} into bins of capacity {}.\".format(\n",
    "      sum(weights), bin_capacity))"
   ]
  },
  {
   "cell_type": "code",
   "execution_count": 2,
   "id": "13222e89",
   "metadata": {},
   "outputs": [],
   "source": [
    "# create ConstrainedQuadraticModel\n",
    "from dimod import ConstrainedQuadraticModel\n",
    "cqm = ConstrainedQuadraticModel()"
   ]
  },
  {
   "cell_type": "code",
   "execution_count": 3,
   "id": "4d07c1bf",
   "metadata": {},
   "outputs": [],
   "source": [
    "# create objective function\n",
    "from dimod import Binary\n",
    "bin_used = [Binary(f'bin_used_{j}') for j in range(num_items)]"
   ]
  },
  {
   "cell_type": "code",
   "execution_count": 4,
   "id": "3096e16b",
   "metadata": {},
   "outputs": [],
   "source": [
    "# goal - minmalise used bins\n",
    "cqm.set_objective(sum(bin_used))"
   ]
  },
  {
   "cell_type": "code",
   "execution_count": 5,
   "id": "61b0d626",
   "metadata": {},
   "outputs": [],
   "source": [
    "# add constrain - each element to only bin\n",
    "item_in_bin = [[Binary(f'item_{i}_in_bin_{j}') for j in range(num_items)]\n",
    "     for i in range(num_items)]\n",
    "for i in range(num_items):\n",
    "    one_bin_per_item = cqm.add_constraint(sum(item_in_bin[i]) == 1, label=f'item_placing_{i}')"
   ]
  },
  {
   "cell_type": "code",
   "execution_count": 6,
   "id": "1c0a6abe",
   "metadata": {},
   "outputs": [],
   "source": [
    "# constrain related with bin capacity\n",
    "for j in range(num_items):\n",
    "    bin_up_to_capacity = cqm.add_constraint(\n",
    "        sum(weights[i] * item_in_bin[i][j] for i in range(num_items)) - bin_used[j] * bin_capacity <= 0,\n",
    "        label=f'capacity_bin_{j}')"
   ]
  },
  {
   "cell_type": "code",
   "execution_count": 7,
   "id": "f22f46dc",
   "metadata": {},
   "outputs": [
    {
     "data": {
      "text/plain": [
       "240"
      ]
     },
     "execution_count": 7,
     "metadata": {},
     "output_type": "execute_result"
    }
   ],
   "source": [
    "len(cqm.variables)"
   ]
  },
  {
   "cell_type": "code",
   "execution_count": 9,
   "id": "75373338",
   "metadata": {},
   "outputs": [],
   "source": [
    "# creation of sampler\n",
    "from dwave.system import LeapHybridCQMSampler\n",
    "sampler = LeapHybridCQMSampler()"
   ]
  },
  {
   "cell_type": "code",
   "execution_count": 10,
   "id": "482c41ad",
   "metadata": {},
   "outputs": [
    {
     "name": "stdout",
     "output_type": "stream",
     "text": [
      "43 feasible solutions of 62.\n"
     ]
    }
   ],
   "source": [
    "# Submit problem to solver - max runtime 3 mins\n",
    "sampleset = sampler.sample_cqm(cqm,\n",
    "                               time_limit=180,\n",
    "                               label=\"SDK Examples - Bin Packing\")  \n",
    "feasible_sampleset = sampleset.filter(lambda row: row.is_feasible)  \n",
    "if len(feasible_sampleset):      \n",
    "   best = feasible_sampleset.first\n",
    "   print(\"{} feasible solutions of {}.\".format(\n",
    "      len(feasible_sampleset), len(sampleset)))"
   ]
  },
  {
   "cell_type": "code",
   "execution_count": 11,
   "id": "4e7918e7",
   "metadata": {},
   "outputs": [
    {
     "name": "stdout",
     "output_type": "stream",
     "text": [
      "2 bins are used.\n"
     ]
    }
   ],
   "source": [
    "# solutions:\n",
    "selected_bins = [key for key, val in best.sample.items() if 'bin_used' in key and val]   \n",
    "print(\"{} bins are used.\".format(len(selected_bins)))    "
   ]
  },
  {
   "cell_type": "code",
   "execution_count": 12,
   "id": "7cc96e71",
   "metadata": {},
   "outputs": [],
   "source": [
    "def get_indices(name):\n",
    "    return [int(digs) for digs in name.split('_') if digs.isdigit()]"
   ]
  },
  {
   "cell_type": "code",
   "execution_count": 13,
   "id": "d1e79c42",
   "metadata": {},
   "outputs": [
    {
     "name": "stdout",
     "output_type": "stream",
     "text": [
      "Bin 11 has weights [4, 5, 4, 3, 4, 6, 5, 3] for a total of 34.\n",
      "Bin 4 has weights [3, 6, 6, 6, 4, 3, 4] for a total of 32.\n"
     ]
    }
   ],
   "source": [
    "#print - the setup\n",
    "for bin in selected_bins:                        \n",
    "    in_bin = [key for key, val in best.sample.items() if\n",
    "       \"_in_bin\" in key and\n",
    "       get_indices(key)[1] == get_indices(bin)[0]\n",
    "       and val]\n",
    "    b = get_indices(in_bin[0])[1]\n",
    "    w = [weights[get_indices(item)[0]] for item in in_bin]\n",
    "    print(\"Bin {} has weights {} for a total of {}.\".format(b, w, sum(w)))"
   ]
  },
  {
   "cell_type": "code",
   "execution_count": null,
   "id": "79006a12",
   "metadata": {},
   "outputs": [],
   "source": []
  }
 ],
 "metadata": {
  "kernelspec": {
   "display_name": "Python 3 (ipykernel)",
   "language": "python",
   "name": "python3"
  },
  "language_info": {
   "codemirror_mode": {
    "name": "ipython",
    "version": 3
   },
   "file_extension": ".py",
   "mimetype": "text/x-python",
   "name": "python",
   "nbconvert_exporter": "python",
   "pygments_lexer": "ipython3",
   "version": "3.10.0"
  }
 },
 "nbformat": 4,
 "nbformat_minor": 5
}
